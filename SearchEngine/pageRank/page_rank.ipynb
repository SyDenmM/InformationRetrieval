{
 "cells": [
  {
   "cell_type": "markdown",
   "metadata": {},
   "source": [
    "## 使用networkx计算PageRank"
   ]
  },
  {
   "cell_type": "code",
   "execution_count": 17,
   "metadata": {},
   "outputs": [],
   "source": [
    "import networkx as nx\n",
    "\n",
    "# 创建一个有向图\n",
    "G = nx.DiGraph()"
   ]
  },
  {
   "cell_type": "markdown",
   "metadata": {},
   "source": [
    "### 读取mysql数据库"
   ]
  },
  {
   "cell_type": "code",
   "execution_count": 18,
   "metadata": {},
   "outputs": [],
   "source": [
    "import pymysql\n",
    "cnx = pymysql.connect(host='localhost', user='root', password='123456')\n",
    "cursor = cnx.cursor()\n",
    "cnx.select_db('IR_db')"
   ]
  },
  {
   "cell_type": "code",
   "execution_count": 19,
   "metadata": {},
   "outputs": [],
   "source": [
    "def get_douban_url_as_node():\n",
    "    # 创建SQL查询\n",
    "    sql = \"SELECT url FROM douban\"\n",
    "    # 执行查询\n",
    "    cursor.execute(sql)\n",
    "    # 获取所有的结果\n",
    "    results = cursor.fetchall()\n",
    "    # 将结果从元组列表转换为普通列表，并添加到图中作为节点\n",
    "    for result in results:\n",
    "        G.add_node(result[0])\n"
   ]
  },
  {
   "cell_type": "code",
   "execution_count": 20,
   "metadata": {},
   "outputs": [],
   "source": [
    "\n",
    "def get_ids_from_same_title():\n",
    "    # 创建SQL查询\n",
    "    sql = \"SELECT page_id FROM same_title\"\n",
    "    # 执行查询\n",
    "    cursor.execute(sql)\n",
    "    # 获取所有的结果\n",
    "    results = cursor.fetchall()\n",
    "    # 将结果从元组列表转换为普通列表\n",
    "    ids_same_title = [result[0] for result in results]\n",
    "    return ids_same_title\n",
    "\n",
    "def get_page_url_as_node():\n",
    "    global ids_page\n",
    "    # 创建SQL查询\n",
    "    sql = \"SELECT id,url FROM page\"\n",
    "    # 执行查询\n",
    "    cursor.execute(sql)\n",
    "    # 获取所有的结果\n",
    "    results = cursor.fetchall()\n",
    "    # 将结果从元组列表转换为普通列表\n",
    "    ids = [result[0] for result in results]\n",
    "    urls = [result[1] for result in results]\n",
    "    # 获取相同title的id\n",
    "    ids_same_title = get_ids_from_same_title()\n",
    "    print(len(ids_same_title))\n",
    "    # 去除相同title的id\n",
    "    for id,url in zip(ids,urls):\n",
    "        if id not in ids_same_title:\n",
    "            G.add_node(url)\n",
    "\n",
    "    # 从same_title中按title分组，获取每组的第一个id\n",
    "    sql = \"SELECT MIN(page_id) FROM same_title GROUP BY title\"\n",
    "    cursor.execute(sql)\n",
    "    results = cursor.fetchall()\n",
    "    ids = [result[0] for result in results]\n",
    "    print(len(ids))\n",
    "    # 找到这些id对应的url\n",
    "    for id in ids:\n",
    "        sql = \"SELECT url FROM page WHERE id = %d\" % id\n",
    "        cursor.execute(sql)\n",
    "        results = cursor.fetchall()\n",
    "        url = results[0]\n",
    "        G.add_node(url)"
   ]
  },
  {
   "cell_type": "markdown",
   "metadata": {},
   "source": [
    "### 创建节点 × 没必要了，创建边的时候会自动创建节点"
   ]
  },
  {
   "cell_type": "code",
   "execution_count": 21,
   "metadata": {},
   "outputs": [],
   "source": [
    "get_douban_url_as_node()"
   ]
  },
  {
   "cell_type": "code",
   "execution_count": 22,
   "metadata": {},
   "outputs": [
    {
     "name": "stdout",
     "output_type": "stream",
     "text": [
      "21606\n",
      "2283\n"
     ]
    }
   ],
   "source": [
    "get_page_url_as_node()"
   ]
  },
  {
   "cell_type": "markdown",
   "metadata": {},
   "source": [
    "### 创建节点之间的边"
   ]
  },
  {
   "cell_type": "code",
   "execution_count": 23,
   "metadata": {},
   "outputs": [],
   "source": [
    "def get_douban_edges():\n",
    "    # 从数据库中获取所有的记录\n",
    "    sql = \"SELECT url, links FROM douban\"\n",
    "    cursor.execute(sql)\n",
    "    results = cursor.fetchall()\n",
    "     # 对于每一条记录\n",
    "    for url, links in results:\n",
    "        # 将links按照'\\n'解析成一个列表\n",
    "        links = links.split('\\n')\n",
    "        # 对于每一个link\n",
    "        for link in links:\n",
    "           G.add_edge(url, link)"
   ]
  },
  {
   "cell_type": "code",
   "execution_count": 24,
   "metadata": {},
   "outputs": [],
   "source": [
    "get_douban_edges()"
   ]
  },
  {
   "cell_type": "code",
   "execution_count": 25,
   "metadata": {},
   "outputs": [],
   "source": [
    "def create_url_to_url_mapping():\n",
    "    # 创建一个空的映射\n",
    "    url_to_url = {}\n",
    "    # 从same_title表中按title分组，获取每组的第一个URL\n",
    "    sql = \"SELECT MIN(page_id), title FROM same_title GROUP BY title\"\n",
    "    cursor.execute(sql)\n",
    "    results = cursor.fetchall()\n",
    "    # 将每个title的所有URL映射到对应的节点\n",
    "    for page_id, title in results:\n",
    "        # 获取该title的第一个URL\n",
    "        sql = \"SELECT url FROM same_title WHERE page_id = %d\" % page_id\n",
    "        cursor.execute(sql)\n",
    "        results = cursor.fetchall()\n",
    "        target_url = results[0]\n",
    "        # 获取该title的所有URL\n",
    "        sql = \"SELECT url FROM same_title WHERE title = %s\"\n",
    "        cursor.execute(sql,(title,))\n",
    "        urls = cursor.fetchall()\n",
    "        for url in urls:\n",
    "            url_to_url[url] = target_url\n",
    "    return url_to_url"
   ]
  },
  {
   "cell_type": "code",
   "execution_count": 26,
   "metadata": {},
   "outputs": [],
   "source": [
    "# 拿到同title的url映射\n",
    "url_to_url = create_url_to_url_mapping()"
   ]
  },
  {
   "cell_type": "code",
   "execution_count": 27,
   "metadata": {},
   "outputs": [],
   "source": [
    "def get_page_edges():\n",
    "    # 从数据库中获取所有的记录\n",
    "    sql = \"SELECT url, links FROM page\"\n",
    "    cursor.execute(sql)\n",
    "    results = cursor.fetchall()\n",
    "    # 对于每一条记录\n",
    "    for url, links in results:\n",
    "        # 如果URL在映射中，使用映射中的值替换URL\n",
    "        url = url_to_url.get(url, url)\n",
    "        # 将links按照'\\n'解析成一个列表\n",
    "        links = links.split('\\n')\n",
    "        # 对于每一个link\n",
    "        for link in links:\n",
    "            # 如果link在映射中，使用映射中的值替换link\n",
    "            link = url_to_url.get(link, link)\n",
    "            # 在图G中添加一条从url到link的边\n",
    "            G.add_edge(url, link)"
   ]
  },
  {
   "cell_type": "code",
   "execution_count": 28,
   "metadata": {},
   "outputs": [],
   "source": [
    "get_page_edges()"
   ]
  },
  {
   "cell_type": "markdown",
   "metadata": {},
   "source": [
    "### 计算PageRank"
   ]
  },
  {
   "cell_type": "code",
   "execution_count": 29,
   "metadata": {},
   "outputs": [],
   "source": [
    "def cal_page_rank():\n",
    "    # 使用networkx中的pagerank函数计算PR值\n",
    "    pr = nx.pagerank(G)\n",
    "    return pr"
   ]
  },
  {
   "cell_type": "markdown",
   "metadata": {},
   "source": [
    "### 更新es索引"
   ]
  },
  {
   "cell_type": "code",
   "execution_count": 30,
   "metadata": {},
   "outputs": [],
   "source": [
    "from elasticsearch import Elasticsearch\n",
    "\n",
    "# 实例化es\n",
    "es = Elasticsearch(hosts=\"http://localhost:9200\")"
   ]
  },
  {
   "cell_type": "code",
   "execution_count": 31,
   "metadata": {},
   "outputs": [
    {
     "name": "stderr",
     "output_type": "stream",
     "text": [
      "C:\\Users\\89214\\AppData\\Local\\Temp\\ipykernel_19580\\3337885599.py:5: ElasticsearchWarning: Elasticsearch built-in security features are not enabled. Without authentication, your cluster could be accessible to anyone. See https://www.elastic.co/guide/en/elasticsearch/reference/7.17/security-minimal-setup.html to enable security.\n",
      "  for doc in scan(es, index='web'):\n",
      "C:\\Users\\89214\\AppData\\Local\\Temp\\ipykernel_19580\\3337885599.py:13: ElasticsearchWarning: Elasticsearch built-in security features are not enabled. Without authentication, your cluster could be accessible to anyone. See https://www.elastic.co/guide/en/elasticsearch/reference/7.17/security-minimal-setup.html to enable security.\n",
      "  es.update(index='web', id=doc['_id'], body={'doc': {'pageRank': page_rank}})\n",
      "C:\\Users\\89214\\AppData\\Local\\Temp\\ipykernel_19580\\3337885599.py:16: ElasticsearchWarning: Elasticsearch built-in security features are not enabled. Without authentication, your cluster could be accessible to anyone. See https://www.elastic.co/guide/en/elasticsearch/reference/7.17/security-minimal-setup.html to enable security.\n",
      "  es.update(index='web', id=doc['_id'], body={'doc': {'pageRank': 0}})\n"
     ]
    },
    {
     "name": "stdout",
     "output_type": "stream",
     "text": [
      "Title: 通俗、真诚、务实。所谓转型，一言蔽之，到了真正“以人（民）为本”的时候了。, PageRank: 2.787516544936364e-05\n",
      "Title: 《置身事内》思维导图整理, PageRank: 2.787516544936364e-05\n",
      "Title: 记录3月11日五道口PAGEONE书店兰小欢老师签售讲座部分内容, PageRank: 2.787516544936364e-05\n",
      "Title: 《置身事内》每章末的推荐阅读书单汇总, PageRank: 2.787516544936364e-05\n",
      "Title: 兰小欢谈地方政府与经济发展, PageRank: 2.787516544936364e-05\n",
      "Title: 一本书读懂当代中国政治与经济，4.5星, PageRank: 2.787516544936364e-05\n",
      "Title: 置身事内, PageRank: 0.00016955194515546433\n",
      "Title: 江湖儿女，何处恋爱？师兄弟妹，近水楼台, PageRank: 1.6093518870302003e-05\n",
      "Title: 独一无二的精致男人——黄药师, PageRank: 1.6093518870302003e-05\n",
      "Title: 射雕英雄传：依稀往梦似曾见, PageRank: 1.6093518870302003e-05\n",
      "Title: 郭靖武功随笔, PageRank: 1.6093518870302003e-05\n",
      "Title: 蓉儿正当年少, PageRank: 1.6093518870302003e-05\n",
      "Title: “我们骑墙派难做啊！！！”——论金庸男主永恒的难题, PageRank: 1.6093518870302003e-05\n",
      "Title: 金庸杂谈--射雕英雄传, PageRank: 1.6093518870302003e-05\n",
      "Title: 射雕英雄传, PageRank: 5.042628906783961e-05\n",
      "Title: 对友谊最大的误解，就是认为它是万能的, PageRank: 2.787516544936364e-05\n",
      "Title: 爱的炮灰——《追风筝的人》读后感, PageRank: 2.787516544936364e-05\n",
      "Title: 阿富汗版《兄弟》, PageRank: 2.787516544936364e-05\n",
      "Title: 《追风筝的人》让人不忘的句子【纯摘抄】, PageRank: 2.787516544936364e-05\n",
      "Title: 找风筝，追风筝, PageRank: 2.787516544936364e-05\n",
      "Title: 成长，就是与自己的一场博弈, PageRank: 2.787516544936364e-05\n",
      "Title: 救赎『追风筝的人』读后记, PageRank: 2.787516544936364e-05\n",
      "Title: 阿富汗的残酷现实，都在《追风筝的人》里, PageRank: 2.787516544936364e-05\n",
      "Title: 为你，千千万万遍, PageRank: 2.787516544936364e-05\n",
      "Title: 论追风筝的人, PageRank: 2.787516544936364e-05\n",
      "Title: 追风筝的人, PageRank: 0.00016955194515546433\n",
      "Title: 保持距离，坚守理想, PageRank: 2.2328768286422796e-05\n",
      "Title: 虚构小说的经典之作——难怪王小波也自叹弗如, PageRank: 2.2328768286422796e-05\n",
      "Title: 兰圃与卡尔维诺的树男, PageRank: 2.2328768286422796e-05\n",
      "Title: 固执, PageRank: 2.2328768286422796e-05\n",
      "Title: 我最喜欢的书！, PageRank: 2.2328768286422796e-05\n",
      "Title: 树上人生, PageRank: 2.2328768286422796e-05\n",
      "Title: 选择怎样的方式生活, PageRank: 2.2328768286422796e-05\n",
      "Title: 翁布罗萨的大地与天空, PageRank: 2.2328768286422796e-05\n",
      "Title: 树上的男爵, PageRank: 0.00010628989124887674\n",
      "Title: 这是一片神奇的土地, PageRank: 3.066258945575509e-05\n",
      "Title: 人最大的痛苦就是心灵没有归属（柴静）, PageRank: 3.066258945575509e-05\n",
      "Title: 继续生活——《寻路中国》读后感, PageRank: 3.066258945575509e-05\n",
      "Title: 《寻路中国》：希望接下来不要再错过, PageRank: 3.066258945575509e-05\n",
      "Title: 关于何伟的“中国三部曲”, PageRank: 3.066258945575509e-05\n",
      "Title: 他的洞见 我们的反思, PageRank: 3.066258945575509e-05\n",
      "Title: 纽约时报书评：中国公路惘然记, PageRank: 3.066258945575509e-05\n",
      "Title: 笔酣墨饱 情深意长, PageRank: 3.066258945575509e-05\n",
      "Title: 一个美国青年的中国之旅, PageRank: 3.066258945575509e-05\n",
      "Title: 冰冷的实验观察笔记, PageRank: 3.066258945575509e-05\n",
      "Title: 寻路中国, PageRank: 0.0001953063007807259\n",
      "Title: 他的生命，与他无关, PageRank: 1.4117257204241589e-05\n",
      "Title: 读加缪杂记, PageRank: 1.4117257204241589e-05\n",
      "Title: 局外人的悲喜剧, PageRank: 1.4117257204241589e-05\n",
      "Title: 他只是个打酱油的。, PageRank: 1.4117257204241589e-05\n",
      "Title: 只是表面冷冰冰, PageRank: 1.4117257204241589e-05\n",
      "Title: 终有一天要被曝晒在烈烈阳光下——读加缪《局外人》, PageRank: 1.4117257204241589e-05\n",
      "Title: 加缪——那四枪的意义何在？, PageRank: 1.4117257204241589e-05\n",
      "Title: 对未来真正的慷慨，是把一切献给现在, PageRank: 1.4117257204241589e-05\n",
      "Title: 异客•异乡, PageRank: 1.4117257204241589e-05\n",
      "Title: 局外人, PageRank: 3.48940782306544e-05\n",
      "Title: 小说，是一个民族的秘史, PageRank: 1.2273727791461792e-05\n",
      "Title: 白鹿原--并不遥远的故事, PageRank: 1.2273727791461792e-05\n",
      "Title: 《白鹿原》与《百年孤独》借鉴对比, PageRank: 1.2273727791461792e-05\n",
      "Title: 白鹿原是我的命运, PageRank: 1.2273727791461792e-05\n",
      "Title: 历史长河，看人性之善恶, PageRank: 1.2273727791461792e-05\n",
      "Title: 关于道德压迫, PageRank: 1.2273727791461792e-05\n",
      "Title: 自信平生无愧事，死后方敢对青天, PageRank: 1.2273727791461792e-05\n",
      "Title: 一个民族的老泪--读《白鹿原》, PageRank: 1.2273727791461792e-05\n",
      "Title: 白鹿原, PageRank: 1.1084816326001284e-05\n",
      "Title: 中国式婚姻：不爱才是天经地义, PageRank: 1.8780490780804295e-05\n",
      "Title: 读《乡土中国》, PageRank: 1.8780490780804295e-05\n",
      "Title: 《乡土中国》读书报告, PageRank: 1.8780490780804295e-05\n",
      "Title: 读费孝通《乡土中国》读书笔记, PageRank: 1.8780490780804295e-05\n",
      "Title: 差序格局与今日之变化, PageRank: 1.8780490780804295e-05\n",
      "Title: 他插进来，而她为此道歉, PageRank: 2.074590624439316e-05\n",
      "Title: 花开了-房思琪的初恋乐园, PageRank: 2.074590624439316e-05\n",
      "Title: 王路：不要上了文学的贼船下不来, PageRank: 2.074590624439316e-05\n",
      "Title: 《房思琪的初恋乐园》：当所有人活在梦里，现实是对受害者的凌迟, PageRank: 2.074590624439316e-05\n",
      "Title: 让心里住进一个万峰老师, PageRank: 2.074590624439316e-05\n",
      "Title: 《房思琪的初恋乐园》：每一个比喻和修辞都是暴力现场, PageRank: 2.074590624439316e-05\n",
      "Title: 谁杀死了房思琪？, PageRank: 2.074590624439316e-05\n",
      "Title: 她死了，我活下来了, PageRank: 2.074590624439316e-05\n",
      "Title: 房思琪的初恋乐园, PageRank: 0.00010206515451939837\n",
      "Title: 诸葛孔明：我愿长眠定军山，遥望异国巴丘水, PageRank: 1.1084816326001284e-05\n",
      "Title: 大江东去。, PageRank: 1.1084816326001284e-05\n",
      "Title: 反讽：三国的寓意, PageRank: 1.1084816326001284e-05\n",
      "Title: 三国年表, PageRank: 1.1084816326001284e-05\n",
      "Title: 历史的沧桑, PageRank: 1.1084816326001284e-05\n",
      "Title: 不朽的福尔摩斯, PageRank: 1.79182290019711e-05\n",
      "Title: 天哪，译林出版社的《福尔摩斯探案全集》竟然翻译成这样！, PageRank: 1.79182290019711e-05\n",
      "Title: 亲爱的福尔摩斯先生, PageRank: 1.79182290019711e-05\n",
      "Title: 永远迷人的福尔摩斯, PageRank: 1.79182290019711e-05\n",
      "Title: 有情皆孽，由此而始, PageRank: 2.5293243578672833e-05\n",
      "Title: 一见杨过误终身, PageRank: 2.5293243578672833e-05\n",
      "Title: 神雕——隐藏在喜剧背后的悲剧, PageRank: 2.5293243578672833e-05\n",
      "Title: 杨过爱郭芙吗？, PageRank: 2.5293243578672833e-05\n",
      "Title: 杨过到底爱不爱郭芙？, PageRank: 2.5293243578672833e-05\n",
      "Title: 情愿杨过是韦小宝, PageRank: 2.5293243578672833e-05\n",
      "Title: 年轻时，我们不懂爱情, PageRank: 2.5293243578672833e-05\n",
      "Title: 青衫依旧——给程英, PageRank: 2.5293243578672833e-05\n",
      "Title: 曾因酒醉鞭名马，生怕情多累美人, PageRank: 2.5293243578672833e-05\n",
      "Title: 神雕侠侣, PageRank: 0.0001454269689034892\n",
      "Title: 我读《毛选》到底读了些什么, PageRank: 2.7754132932359177e-05\n",
      "Title: 从《毛泽东选集》中，我可以学到什么？, PageRank: 2.7754132932359177e-05\n"
     ]
    },
    {
     "name": "stderr",
     "output_type": "stream",
     "text": [
      "C:\\Users\\89214\\AppData\\Local\\Temp\\ipykernel_19580\\3337885599.py:22: DeprecationWarning: Received 'size' via a specific parameter in the presence of a 'body' parameter, which is deprecated and will be removed in a future version. Instead, use only 'body' or only specific parameters.\n",
      "  res = es.search(index=\"web\", body={\"query\": {\"match_all\": {}}}, size=100)\n",
      "C:\\Users\\89214\\AppData\\Local\\Temp\\ipykernel_19580\\3337885599.py:22: ElasticsearchWarning: Elasticsearch built-in security features are not enabled. Without authentication, your cluster could be accessible to anyone. See https://www.elastic.co/guide/en/elasticsearch/reference/7.17/security-minimal-setup.html to enable security.\n",
      "  res = es.search(index=\"web\", body={\"query\": {\"match_all\": {}}}, size=100)\n"
     ]
    }
   ],
   "source": [
    "from elasticsearch.helpers import scan\n",
    "\n",
    "def add_page_rank_to_documents(pr):\n",
    "    # 遍历web索引中的所有文档\n",
    "    for doc in scan(es, index='web'):\n",
    "        # 获取文档的URL\n",
    "        url = doc['_source']['url']\n",
    "        # 在pr字典中查询对应的PageRank值\n",
    "        page_rank = pr.get(url)\n",
    "        # 如果找到了PageRank值\n",
    "        if page_rank is not None:\n",
    "            # 更新文档，添加pageRank字段\n",
    "            es.update(index='web', id=doc['_id'], body={'doc': {'pageRank': page_rank}})\n",
    "        else :\n",
    "            # 否则，设置pageRank字段为0\n",
    "            es.update(index='web', id=doc['_id'], body={'doc': {'pageRank': 0}})\n",
    "\n",
    "pr = cal_page_rank()\n",
    "add_page_rank_to_documents(pr)\n",
    "## 打印PageRank值\n",
    "# 获取web索引中的前一百条文档\n",
    "res = es.search(index=\"web\", body={\"query\": {\"match_all\": {}}}, size=100)\n",
    "\n",
    "# 遍历这些文档\n",
    "for doc in res['hits']['hits']:\n",
    "    # 获取并打印文档的title和pageRank字段\n",
    "    title = doc['_source'].get('title', 'Not available')\n",
    "    page_rank = doc['_source'].get('pageRank', 'Not available')\n",
    "    print(f\"Title: {title}, PageRank: {page_rank}\")"
   ]
  },
  {
   "cell_type": "code",
   "execution_count": 36,
   "metadata": {},
   "outputs": [
    {
     "name": "stderr",
     "output_type": "stream",
     "text": [
      "C:\\Users\\89214\\AppData\\Local\\Temp\\ipykernel_19580\\1599606075.py:9: ElasticsearchWarning: Elasticsearch built-in security features are not enabled. Without authentication, your cluster could be accessible to anyone. See https://www.elastic.co/guide/en/elasticsearch/reference/7.17/security-minimal-setup.html to enable security.\n",
      "  res = es.search(index=\"web\", body={\"query\": {\"match\": {\"url\": 'https://edu.cnblogs.com/'}}})\n"
     ]
    },
    {
     "ename": "IndexError",
     "evalue": "list index out of range",
     "output_type": "error",
     "traceback": [
      "\u001b[1;31m---------------------------------------------------------------------------\u001b[0m",
      "\u001b[1;31mIndexError\u001b[0m                                Traceback (most recent call last)",
      "Cell \u001b[1;32mIn[36], line 12\u001b[0m\n\u001b[0;32m      9\u001b[0m res \u001b[38;5;241m=\u001b[39m es\u001b[38;5;241m.\u001b[39msearch(index\u001b[38;5;241m=\u001b[39m\u001b[38;5;124m\"\u001b[39m\u001b[38;5;124mweb\u001b[39m\u001b[38;5;124m\"\u001b[39m, body\u001b[38;5;241m=\u001b[39m{\u001b[38;5;124m\"\u001b[39m\u001b[38;5;124mquery\u001b[39m\u001b[38;5;124m\"\u001b[39m: {\u001b[38;5;124m\"\u001b[39m\u001b[38;5;124mmatch\u001b[39m\u001b[38;5;124m\"\u001b[39m: {\u001b[38;5;124m\"\u001b[39m\u001b[38;5;124murl\u001b[39m\u001b[38;5;124m\"\u001b[39m: \u001b[38;5;124m'\u001b[39m\u001b[38;5;124mhttps://edu.cnblogs.com/\u001b[39m\u001b[38;5;124m'\u001b[39m}}})\n\u001b[0;32m     11\u001b[0m \u001b[38;5;66;03m# 查看page_id\u001b[39;00m\n\u001b[1;32m---> 12\u001b[0m page_id \u001b[38;5;241m=\u001b[39m \u001b[43mres\u001b[49m\u001b[43m[\u001b[49m\u001b[38;5;124;43m'\u001b[39;49m\u001b[38;5;124;43mhits\u001b[39;49m\u001b[38;5;124;43m'\u001b[39;49m\u001b[43m]\u001b[49m\u001b[43m[\u001b[49m\u001b[38;5;124;43m'\u001b[39;49m\u001b[38;5;124;43mhits\u001b[39;49m\u001b[38;5;124;43m'\u001b[39;49m\u001b[43m]\u001b[49m\u001b[43m[\u001b[49m\u001b[38;5;241;43m0\u001b[39;49m\u001b[43m]\u001b[49m[\u001b[38;5;124m'\u001b[39m\u001b[38;5;124m_source\u001b[39m\u001b[38;5;124m'\u001b[39m][\u001b[38;5;124m'\u001b[39m\u001b[38;5;124mpageRank\u001b[39m\u001b[38;5;124m'\u001b[39m]\n\u001b[0;32m     13\u001b[0m \u001b[38;5;28mprint\u001b[39m(page_id)\n",
      "\u001b[1;31mIndexError\u001b[0m: list index out of range"
     ]
    }
   ],
   "source": [
    "\"\"\"\n",
    "res = es.search(index=\"web\", body={\"query\": {\"match_all\": {}}})\n",
    "for doc in res['hits']['hits']:\n",
    "    print(doc['_source'])  # 检查每个文档是否包含 pageRank 字段\n",
    "\"\"\"\n",
    "\n",
    "# 使用URL搜索文档\n",
    "# res = es.search(index=\"web\", body={\"query\": {\"match\": {\"url\": 'https://www.runoob.com/'}}})\n",
    "res = es.search(index=\"web\", body={\"query\": {\"match\": {\"url\": 'https://edu.cnblogs.com/'}}})\n",
    "\n",
    "# 查看page_id\n",
    "page_id = res['hits']['hits'][0]['_source']['pageRank']\n",
    "print(page_id)"
   ]
  },
  {
   "cell_type": "markdown",
   "metadata": {},
   "source": [
    "### 测试pageRank影响排序结果"
   ]
  },
  {
   "cell_type": "code",
   "execution_count": 37,
   "metadata": {},
   "outputs": [],
   "source": [
    "def deal_bool_query(query):\n",
    "    # 执行搜索\n",
    "    response = es.search(\n",
    "        index=\"web\",\n",
    "        body={\n",
    "            \"query\": {\n",
    "                \"function_score\": {\n",
    "                    \"query\": {\n",
    "                        \"bool\": {\n",
    "                            \"must\": [\n",
    "                                {\n",
    "                                    \"multi_match\": {\n",
    "                                        \"query\": query,\n",
    "                                        \"fields\": [\"title\", \"content\"]\n",
    "                                    }\n",
    "                                }\n",
    "                            ]\n",
    "                        }\n",
    "                    },\n",
    "                    \"script_score\": {\n",
    "                        \"script\": {\n",
    "                            \"source\": \"doc['pageRank'].value == 0 ? 1 : Math.log1p(doc['pageRank'].value * params.factor)\",\n",
    "                            \"params\": {\n",
    "                                \"factor\": 100000\n",
    "                            }\n",
    "                        }\n",
    "                    },\n",
    "                    \"boost_mode\": \"sum\"\n",
    "                }\n",
    "            },\n",
    "            \"explain\": True  # 添加这一行\n",
    "        }\n",
    "    )\n",
    "    # 获取搜索结果\n",
    "    hits = response[\"hits\"][\"hits\"]\n",
    "    # 格式化搜索结果\n",
    "    results = [\n",
    "        {\n",
    "            \"id\": hit[\"_id\"],\n",
    "            \"title\": hit[\"_source\"][\"title\"],\n",
    "            \"content\": hit[\"_source\"][\"content\"],\n",
    "            \"url\": hit[\"_source\"][\"url\"],\n",
    "            \"type\": hit[\"_source\"][\"type\"],\n",
    "            \"pageRank\": hit[\"_source\"][\"pageRank\"],\n",
    "            \"explanation\": hit[\"_explanation\"]  # 添加这一行\n",
    "        }\n",
    "        for hit in hits\n",
    "    ]\n",
    "    return results"
   ]
  },
  {
   "cell_type": "code",
   "execution_count": 38,
   "metadata": {},
   "outputs": [
    {
     "name": "stdout",
     "output_type": "stream",
     "text": [
      "此次，中国恒大停牌距其复牌仅一个月。此前，中国恒大于2022年3月21日起停牌，在经历了停牌超17个月后，中国恒大宣布于今年8月28日起重新复牌。 https://www.thepaper.cn/newsDetail_forward_24776842 news\n",
      "56.73377\n",
      "0\n",
      "两年净亏损8120亿-总负债超24万亿中国恒大已资不抵债 https://www.jiemian.com/article/9760788.html news\n",
      "46.87542\n",
      "0\n",
      "国资房企远洋集团爆雷半年巨亏近200亿票据-债券也濒临违约 http://www.stcn.com/article/detail/947042.html news\n",
      "37.592705\n",
      "0\n",
      "中国恒大将于周一在香港复牌 https://www.guancha.cn/GongSi/2023_08_26_706438.shtml news\n",
      "35.624535\n",
      "0\n",
      "中国恒大-恒大汽车和恒大物业在港交所集体停牌 http://03333.HK news\n",
      "31.351944\n",
      "0\n",
      "中东战投暂停资金支持-恒大汽车复牌大跌 http://NWTN.US news\n",
      "29.703127\n",
      "0\n",
      "恒大复牌-涨幅明显 https://k.sina.com.cn/article_5044281310_12ca99fde019021kub.html news\n",
      "27.169312\n",
      "0\n",
      "格力地产与珠免重启资产重组-此前因涉内幕交易案暂停两年半 https://www.caixin.com/2022-12-03/101974009.html news\n",
      "25.65512\n",
      "0\n",
      "中国恒大复牌首日-盘中跌90 https://wallstreetcn.com/articles/3696497 news\n",
      "25.254686\n",
      "0\n",
      "许家印的香港恒大中心更名为万通保险中心-系马云旗下公司 https://www.nbd.com.cn/articles/2023-06-26/2886217.html news\n",
      "23.644526\n",
      "0\n"
     ]
    },
    {
     "name": "stderr",
     "output_type": "stream",
     "text": [
      "C:\\Users\\89214\\AppData\\Local\\Temp\\ipykernel_19580\\3839144991.py:3: ElasticsearchWarning: Elasticsearch built-in security features are not enabled. Without authentication, your cluster could be accessible to anyone. See https://www.elastic.co/guide/en/elasticsearch/reference/7.17/security-minimal-setup.html to enable security.\n",
      "  response = es.search(\n"
     ]
    }
   ],
   "source": [
    "results = deal_bool_query('中国恒大于2022年3月21日起停牌')\n",
    "\n",
    "for result in results:\n",
    "    print(result['title'], result['url'], result['type'])\n",
    "    print(result['explanation']['value'])\n",
    "    print(result['pageRank'])\n",
    "    "
   ]
  },
  {
   "cell_type": "code",
   "execution_count": 39,
   "metadata": {},
   "outputs": [
    {
     "name": "stdout",
     "output_type": "stream",
     "text": [
      "3.691837003831898\n",
      "1.5995795503532988\n",
      "8.272020702549892\n",
      "5.9816541727124815\n"
     ]
    }
   ],
   "source": [
    "import math\n",
    "\n",
    "print(math.log1p(0.00039118477103319317*100000))\n",
    "print(math.log1p(3.9509503613941765e-05*100000))\n",
    "\n",
    "print(math.log1p(0.00039118477103319317*10000000))\n",
    "print(math.log1p(3.9509503613941765e-05*10000000))"
   ]
  }
 ],
 "metadata": {
  "kernelspec": {
   "display_name": "Python 3",
   "language": "python",
   "name": "python3"
  },
  "language_info": {
   "codemirror_mode": {
    "name": "ipython",
    "version": 3
   },
   "file_extension": ".py",
   "mimetype": "text/x-python",
   "name": "python",
   "nbconvert_exporter": "python",
   "pygments_lexer": "ipython3",
   "version": "3.13.0"
  }
 },
 "nbformat": 4,
 "nbformat_minor": 2
}
